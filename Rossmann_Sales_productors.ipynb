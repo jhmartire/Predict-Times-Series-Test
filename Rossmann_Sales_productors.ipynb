{
  "nbformat": 4,
  "nbformat_minor": 0,
  "metadata": {
    "colab": {
      "name": " Rossmann Sales productors",
      "provenance": [],
      "collapsed_sections": [
        "H_vHY0W453Pn",
        "6s9pPcrq6C7Y",
        "y_1ZkQl3_QNG",
        "turQItRv_Yvf",
        "kYP0TxKmKzFH",
        "jDNOIS2KNYon",
        "Mi8-M2Tk5iP0",
        "EMXJ2eab7tH9",
        "AC8oMNYKeuPN",
        "bvQSbPJgg4CE",
        "U7xffYslnNRY",
        "XoBqjwBziPyv",
        "2BMOr3PGdEyJ"
      ],
      "mount_file_id": "16tLt5p85VML4whH-jos77DCeJdEjwk3I",
      "authorship_tag": "ABX9TyPoWLQl0K7UOq8zFTQH1ljK",
      "include_colab_link": true
    },
    "kernelspec": {
      "name": "python3",
      "display_name": "Python 3"
    }
  },
  "cells": [
    {
      "cell_type": "markdown",
      "metadata": {
        "id": "view-in-github",
        "colab_type": "text"
      },
      "source": [
        "<a href=\"https://colab.research.google.com/github/jhmartire/Predict-Times-Series-Test/blob/master/Rossmann_Sales_productors.ipynb\" target=\"_parent\"><img src=\"https://colab.research.google.com/assets/colab-badge.svg\" alt=\"Open In Colab\"/></a>"
      ]
    },
    {
      "cell_type": "markdown",
      "metadata": {
        "id": "H_vHY0W453Pn"
      },
      "source": [
        "#0.0 IMPORTS"
      ]
    },
    {
      "cell_type": "code",
      "metadata": {
        "id": "pFPbrMpnaXkQ",
        "outputId": "43c475c2-ef42-44ef-d711-18d27f1cdfe0",
        "colab": {
          "base_uri": "https://localhost:8080/",
          "height": 85
        }
      },
      "source": [
        "!pip install inflection"
      ],
      "execution_count": 1,
      "outputs": [
        {
          "output_type": "stream",
          "text": [
            "Collecting inflection\n",
            "  Downloading https://files.pythonhosted.org/packages/59/91/aa6bde563e0085a02a435aa99b49ef75b0a4b062635e606dab23ce18d720/inflection-0.5.1-py2.py3-none-any.whl\n",
            "Installing collected packages: inflection\n",
            "Successfully installed inflection-0.5.1\n"
          ],
          "name": "stdout"
        }
      ]
    },
    {
      "cell_type": "code",
      "metadata": {
        "id": "O1uezXGzkRcV"
      },
      "source": [
        "import io\n",
        "import pandas as pd\n",
        "import io\n",
        "import numpy as np \n",
        "import inflect\n",
        "import mmap\n",
        "import math\n",
        "import inflection\n",
        "import seaborn as sns\n",
        "import matplotlib.pyplot as plt\n",
        "import IPython.display as Image\n",
        "\n",
        "\n",
        "\n",
        "from google.colab import files\n",
        "from google.colab import drive \n",
        "#drive.mount('/content/drive')\n"
      ],
      "execution_count": 2,
      "outputs": []
    },
    {
      "cell_type": "markdown",
      "metadata": {
        "id": "6s9pPcrq6C7Y"
      },
      "source": [
        "##0.2. Loading data\n"
      ]
    },
    {
      "cell_type": "code",
      "metadata": {
        "id": "5baDApYB79uX",
        "outputId": "46a443b7-36a4-42db-f40f-1697d4603a3c",
        "colab": {
          "base_uri": "https://localhost:8080/",
          "height": 71
        }
      },
      "source": [
        "df_sales_raw = pd.read_csv( '/content/drive/My Drive/Data Science em Producao /train.csv')\n",
        "df_store_raw = pd.read_csv( '/content/drive/My Drive/Data Science em Producao /store.csv')\n",
        "\n",
        "#merge\n",
        "df_raw = pd.merge(df_sales_raw, df_store_raw, how='left', on='Store')"
      ],
      "execution_count": 3,
      "outputs": [
        {
          "output_type": "stream",
          "text": [
            "/usr/local/lib/python3.6/dist-packages/IPython/core/interactiveshell.py:2718: DtypeWarning: Columns (7) have mixed types.Specify dtype option on import or set low_memory=False.\n",
            "  interactivity=interactivity, compiler=compiler, result=result)\n"
          ],
          "name": "stderr"
        }
      ]
    },
    {
      "cell_type": "code",
      "metadata": {
        "id": "Kk0u1u_KZyo0",
        "outputId": "5c943e12-0b83-44a0-f67f-20637a72304f",
        "colab": {
          "base_uri": "https://localhost:8080/",
          "height": 34
        }
      },
      "source": [
        "df_raw.shape"
      ],
      "execution_count": 4,
      "outputs": [
        {
          "output_type": "execute_result",
          "data": {
            "text/plain": [
              "(1017209, 18)"
            ]
          },
          "metadata": {
            "tags": []
          },
          "execution_count": 4
        }
      ]
    },
    {
      "cell_type": "code",
      "metadata": {
        "id": "LE7xw4I3mD04",
        "outputId": "ac9f1526-b5e4-44fe-8c11-f553375e8a85",
        "colab": {
          "base_uri": "https://localhost:8080/",
          "height": 117
        }
      },
      "source": [
        "df_raw.sample()"
      ],
      "execution_count": 5,
      "outputs": [
        {
          "output_type": "execute_result",
          "data": {
            "text/html": [
              "<div>\n",
              "<style scoped>\n",
              "    .dataframe tbody tr th:only-of-type {\n",
              "        vertical-align: middle;\n",
              "    }\n",
              "\n",
              "    .dataframe tbody tr th {\n",
              "        vertical-align: top;\n",
              "    }\n",
              "\n",
              "    .dataframe thead th {\n",
              "        text-align: right;\n",
              "    }\n",
              "</style>\n",
              "<table border=\"1\" class=\"dataframe\">\n",
              "  <thead>\n",
              "    <tr style=\"text-align: right;\">\n",
              "      <th></th>\n",
              "      <th>Store</th>\n",
              "      <th>DayOfWeek</th>\n",
              "      <th>Date</th>\n",
              "      <th>Sales</th>\n",
              "      <th>Customers</th>\n",
              "      <th>Open</th>\n",
              "      <th>Promo</th>\n",
              "      <th>StateHoliday</th>\n",
              "      <th>SchoolHoliday</th>\n",
              "      <th>StoreType</th>\n",
              "      <th>Assortment</th>\n",
              "      <th>CompetitionDistance</th>\n",
              "      <th>CompetitionOpenSinceMonth</th>\n",
              "      <th>CompetitionOpenSinceYear</th>\n",
              "      <th>Promo2</th>\n",
              "      <th>Promo2SinceWeek</th>\n",
              "      <th>Promo2SinceYear</th>\n",
              "      <th>PromoInterval</th>\n",
              "    </tr>\n",
              "  </thead>\n",
              "  <tbody>\n",
              "    <tr>\n",
              "      <th>945595</th>\n",
              "      <td>861</td>\n",
              "      <td>3</td>\n",
              "      <td>2013-03-06</td>\n",
              "      <td>0</td>\n",
              "      <td>0</td>\n",
              "      <td>0</td>\n",
              "      <td>1</td>\n",
              "      <td>0</td>\n",
              "      <td>0</td>\n",
              "      <td>c</td>\n",
              "      <td>c</td>\n",
              "      <td>740.0</td>\n",
              "      <td>NaN</td>\n",
              "      <td>NaN</td>\n",
              "      <td>1</td>\n",
              "      <td>14.0</td>\n",
              "      <td>2013.0</td>\n",
              "      <td>Mar,Jun,Sept,Dec</td>\n",
              "    </tr>\n",
              "  </tbody>\n",
              "</table>\n",
              "</div>"
            ],
            "text/plain": [
              "        Store  DayOfWeek  ... Promo2SinceYear     PromoInterval\n",
              "945595    861          3  ...          2013.0  Mar,Jun,Sept,Dec\n",
              "\n",
              "[1 rows x 18 columns]"
            ]
          },
          "metadata": {
            "tags": []
          },
          "execution_count": 5
        }
      ]
    },
    {
      "cell_type": "markdown",
      "metadata": {
        "id": "y_1ZkQl3_QNG"
      },
      "source": [
        "#1.0. PASSO 1 - DESCRICAO DE DADOS\n"
      ]
    },
    {
      "cell_type": "code",
      "metadata": {
        "id": "7FVBE8owAZO5"
      },
      "source": [
        "df1 = df_raw.copy()"
      ],
      "execution_count": 6,
      "outputs": []
    },
    {
      "cell_type": "markdown",
      "metadata": {
        "id": "turQItRv_Yvf"
      },
      "source": [
        "##1.1.Rename Columns"
      ]
    },
    {
      "cell_type": "code",
      "metadata": {
        "id": "koT52N8bAHZX",
        "outputId": "da90ee30-7167-4706-c0bb-25861a3ce4f9",
        "colab": {
          "base_uri": "https://localhost:8080/",
          "height": 0
        }
      },
      "source": [
        "df1.columns"
      ],
      "execution_count": 7,
      "outputs": [
        {
          "output_type": "execute_result",
          "data": {
            "text/plain": [
              "Index(['Store', 'DayOfWeek', 'Date', 'Sales', 'Customers', 'Open', 'Promo',\n",
              "       'StateHoliday', 'SchoolHoliday', 'StoreType', 'Assortment',\n",
              "       'CompetitionDistance', 'CompetitionOpenSinceMonth',\n",
              "       'CompetitionOpenSinceYear', 'Promo2', 'Promo2SinceWeek',\n",
              "       'Promo2SinceYear', 'PromoInterval'],\n",
              "      dtype='object')"
            ]
          },
          "metadata": {
            "tags": []
          },
          "execution_count": 7
        }
      ]
    },
    {
      "cell_type": "code",
      "metadata": {
        "id": "cl8nfixYA9yp"
      },
      "source": [
        "cols_old=['Store', 'DayOfWeek', 'Date', 'Sales', 'Customers', 'Open', 'Promo',\n",
        "          'StateHoliday', 'SchoolHoliday', 'StoreType', 'Assortment',\n",
        "          'CompetitionDistance', 'CompetitionOpenSinceMonth',\n",
        "          'CompetitionOpenSinceYear', 'Promo2', 'Promo2SinceWeek',\n",
        "          'Promo2SinceYear', 'PromoInterval']\n",
        "\n",
        "snakecase = lambda x: inflection.underscore ( x )  \n",
        "\n",
        "cols_new = list( map( snakecase, cols_old) )\n",
        "\n",
        "#rename\n",
        "df1.columns = cols_new"
      ],
      "execution_count": 8,
      "outputs": []
    },
    {
      "cell_type": "code",
      "metadata": {
        "id": "draubtlVId3J",
        "outputId": "4722ddd0-6b95-4ef4-b6fd-808544bccd73",
        "colab": {
          "base_uri": "https://localhost:8080/",
          "height": 0
        }
      },
      "source": [
        "df1.columns"
      ],
      "execution_count": 9,
      "outputs": [
        {
          "output_type": "execute_result",
          "data": {
            "text/plain": [
              "Index(['store', 'day_of_week', 'date', 'sales', 'customers', 'open', 'promo',\n",
              "       'state_holiday', 'school_holiday', 'store_type', 'assortment',\n",
              "       'competition_distance', 'competition_open_since_month',\n",
              "       'competition_open_since_year', 'promo2', 'promo2_since_week',\n",
              "       'promo2_since_year', 'promo_interval'],\n",
              "      dtype='object')"
            ]
          },
          "metadata": {
            "tags": []
          },
          "execution_count": 9
        }
      ]
    },
    {
      "cell_type": "markdown",
      "metadata": {
        "id": "kYP0TxKmKzFH"
      },
      "source": [
        "##1.2. Data Dimensions"
      ]
    },
    {
      "cell_type": "code",
      "metadata": {
        "id": "chXJopNXLDVV",
        "outputId": "96a54f77-c66c-4c34-b9f5-d95561c9b547",
        "colab": {
          "base_uri": "https://localhost:8080/",
          "height": 0
        }
      },
      "source": [
        "  print( 'Number of Rows: {}' .format( df1.shape[0] ) )\n",
        "  print( 'Number of Cols: {}' .format( df1.shape[1] ) )"
      ],
      "execution_count": 10,
      "outputs": [
        {
          "output_type": "stream",
          "text": [
            "Number of Rows: 1017209\n",
            "Number of Cols: 18\n"
          ],
          "name": "stdout"
        }
      ]
    },
    {
      "cell_type": "markdown",
      "metadata": {
        "id": "jDNOIS2KNYon"
      },
      "source": [
        "##1.3. Data Types"
      ]
    },
    {
      "cell_type": "code",
      "metadata": {
        "id": "d_ZiiOYlNkST",
        "outputId": "5a624d93-3ec1-4b2e-f1f9-49b10a5e17ec",
        "colab": {
          "base_uri": "https://localhost:8080/",
          "height": 0
        }
      },
      "source": [
        "df1['date'] = pd.to_datetime( df1['date'] )\n",
        "df1.dtypes"
      ],
      "execution_count": 11,
      "outputs": [
        {
          "output_type": "execute_result",
          "data": {
            "text/plain": [
              "store                                    int64\n",
              "day_of_week                              int64\n",
              "date                            datetime64[ns]\n",
              "sales                                    int64\n",
              "customers                                int64\n",
              "open                                     int64\n",
              "promo                                    int64\n",
              "state_holiday                           object\n",
              "school_holiday                           int64\n",
              "store_type                              object\n",
              "assortment                              object\n",
              "competition_distance                   float64\n",
              "competition_open_since_month           float64\n",
              "competition_open_since_year            float64\n",
              "promo2                                   int64\n",
              "promo2_since_week                      float64\n",
              "promo2_since_year                      float64\n",
              "promo_interval                          object\n",
              "dtype: object"
            ]
          },
          "metadata": {
            "tags": []
          },
          "execution_count": 11
        }
      ]
    },
    {
      "cell_type": "markdown",
      "metadata": {
        "id": "Mi8-M2Tk5iP0"
      },
      "source": [
        "##1.4. Check NA"
      ]
    },
    {
      "cell_type": "code",
      "metadata": {
        "id": "hAUdH0mX5nAs",
        "outputId": "14f062ce-c218-4e6b-9f7d-2cbcaaca2ee3",
        "colab": {
          "base_uri": "https://localhost:8080/",
          "height": 0
        }
      },
      "source": [
        "df1.isna().sum()"
      ],
      "execution_count": 12,
      "outputs": [
        {
          "output_type": "execute_result",
          "data": {
            "text/plain": [
              "store                                0\n",
              "day_of_week                          0\n",
              "date                                 0\n",
              "sales                                0\n",
              "customers                            0\n",
              "open                                 0\n",
              "promo                                0\n",
              "state_holiday                        0\n",
              "school_holiday                       0\n",
              "store_type                           0\n",
              "assortment                           0\n",
              "competition_distance              2642\n",
              "competition_open_since_month    323348\n",
              "competition_open_since_year     323348\n",
              "promo2                               0\n",
              "promo2_since_week               508031\n",
              "promo2_since_year               508031\n",
              "promo_interval                  508031\n",
              "dtype: int64"
            ]
          },
          "metadata": {
            "tags": []
          },
          "execution_count": 12
        }
      ]
    },
    {
      "cell_type": "markdown",
      "metadata": {
        "id": "EMXJ2eab7tH9"
      },
      "source": [
        "##1.5. Fillout NA"
      ]
    },
    {
      "cell_type": "code",
      "metadata": {
        "id": "fOmDmg0SN45k",
        "outputId": "a1a88f25-dc68-4eb8-8ab8-04b1cc6d764a",
        "colab": {
          "base_uri": "https://localhost:8080/",
          "height": 0
        }
      },
      "source": [
        "df1.sample()"
      ],
      "execution_count": 13,
      "outputs": [
        {
          "output_type": "execute_result",
          "data": {
            "text/html": [
              "<div>\n",
              "<style scoped>\n",
              "    .dataframe tbody tr th:only-of-type {\n",
              "        vertical-align: middle;\n",
              "    }\n",
              "\n",
              "    .dataframe tbody tr th {\n",
              "        vertical-align: top;\n",
              "    }\n",
              "\n",
              "    .dataframe thead th {\n",
              "        text-align: right;\n",
              "    }\n",
              "</style>\n",
              "<table border=\"1\" class=\"dataframe\">\n",
              "  <thead>\n",
              "    <tr style=\"text-align: right;\">\n",
              "      <th></th>\n",
              "      <th>store</th>\n",
              "      <th>day_of_week</th>\n",
              "      <th>date</th>\n",
              "      <th>sales</th>\n",
              "      <th>customers</th>\n",
              "      <th>open</th>\n",
              "      <th>promo</th>\n",
              "      <th>state_holiday</th>\n",
              "      <th>school_holiday</th>\n",
              "      <th>store_type</th>\n",
              "      <th>assortment</th>\n",
              "      <th>competition_distance</th>\n",
              "      <th>competition_open_since_month</th>\n",
              "      <th>competition_open_since_year</th>\n",
              "      <th>promo2</th>\n",
              "      <th>promo2_since_week</th>\n",
              "      <th>promo2_since_year</th>\n",
              "      <th>promo_interval</th>\n",
              "    </tr>\n",
              "  </thead>\n",
              "  <tbody>\n",
              "    <tr>\n",
              "      <th>253404</th>\n",
              "      <td>239</td>\n",
              "      <td>6</td>\n",
              "      <td>2014-12-13</td>\n",
              "      <td>5049</td>\n",
              "      <td>500</td>\n",
              "      <td>1</td>\n",
              "      <td>0</td>\n",
              "      <td>0</td>\n",
              "      <td>0</td>\n",
              "      <td>d</td>\n",
              "      <td>c</td>\n",
              "      <td>610.0</td>\n",
              "      <td>NaN</td>\n",
              "      <td>NaN</td>\n",
              "      <td>0</td>\n",
              "      <td>NaN</td>\n",
              "      <td>NaN</td>\n",
              "      <td>NaN</td>\n",
              "    </tr>\n",
              "  </tbody>\n",
              "</table>\n",
              "</div>"
            ],
            "text/plain": [
              "        store  day_of_week  ... promo2_since_year  promo_interval\n",
              "253404    239            6  ...               NaN             NaN\n",
              "\n",
              "[1 rows x 18 columns]"
            ]
          },
          "metadata": {
            "tags": []
          },
          "execution_count": 13
        }
      ]
    },
    {
      "cell_type": "code",
      "metadata": {
        "id": "97IRULApK3n-",
        "outputId": "9e0af667-6a0f-474b-982b-0f3b491443e4",
        "colab": {
          "base_uri": "https://localhost:8080/",
          "height": 0
        }
      },
      "source": [
        "df1['competition_distance'].max()"
      ],
      "execution_count": 14,
      "outputs": [
        {
          "output_type": "execute_result",
          "data": {
            "text/plain": [
              "75860.0"
            ]
          },
          "metadata": {
            "tags": []
          },
          "execution_count": 14
        }
      ]
    },
    {
      "cell_type": "code",
      "metadata": {
        "id": "ZghhqxDv71Fj"
      },
      "source": [
        "#competition_distance\n",
        "df1['competition_distance'] = df1['competition_distance'].apply( lambda x: 200000.0 if math.isnan(x) else x)\n",
        "\n",
        "#competition_open_since_month    \n",
        "df1['competition_open_since_month'] = df1.apply(lambda x: x['date'].month if math.isnan (x['competition_open_since_month']) else x['competition_open_since_month'], axis=1)\n",
        "\n",
        "#competition_open_since_year \n",
        "df1['competition_open_since_year'] = df1.apply(lambda x: x['date'].year if math.isnan (x['competition_open_since_year']) else x['competition_open_since_year'], axis=1)\n",
        "                               \n",
        "#promo2_since_week   \n",
        "df1['promo2_since_week'] = df1.apply(lambda x: x['date'].week if math.isnan (x['promo2_since_week']) else x['promo2_since_week'], axis=1)\n",
        "\n",
        "#promo2_since_year \n",
        "df1['promo2_since_year'] = df1.apply(lambda x: x['date'].year if math.isnan (x['promo2_since_year']) else x['promo2_since_year'], axis=1)\n",
        "\n",
        "#promo_interval    \n",
        "month_map = {1:'Jan',2:'Fev',3:'Mar',4:'Apr',5:'May',6:'Jun',7:'Jul',8:'Aug',9:'Sep',10:'Oct',11:'Nov',12:'Dec'}\n",
        "\n",
        "\n",
        "df1['promo_interval'].fillna(0, inplace=True )\n",
        "\n",
        "df1['month_map'] = df1['date'].dt.month.map( month_map)\n",
        "\n",
        "df1['is_promo'] = df1[['promo_interval', 'month_map']].apply(lambda x: 0 if x['promo_interval'] == 0 else 1 if x['month_map'] in x['promo_interval'].split(',') else 0, axis=1)"
      ],
      "execution_count": 15,
      "outputs": []
    },
    {
      "cell_type": "code",
      "metadata": {
        "id": "i-SojntANMVg",
        "outputId": "b39b4d6f-dd9f-460a-c8fe-0b8c95cfac99",
        "colab": {
          "base_uri": "https://localhost:8080/",
          "height": 0
        }
      },
      "source": [
        "df1.isna().sum()"
      ],
      "execution_count": 16,
      "outputs": [
        {
          "output_type": "execute_result",
          "data": {
            "text/plain": [
              "store                           0\n",
              "day_of_week                     0\n",
              "date                            0\n",
              "sales                           0\n",
              "customers                       0\n",
              "open                            0\n",
              "promo                           0\n",
              "state_holiday                   0\n",
              "school_holiday                  0\n",
              "store_type                      0\n",
              "assortment                      0\n",
              "competition_distance            0\n",
              "competition_open_since_month    0\n",
              "competition_open_since_year     0\n",
              "promo2                          0\n",
              "promo2_since_week               0\n",
              "promo2_since_year               0\n",
              "promo_interval                  0\n",
              "month_map                       0\n",
              "is_promo                        0\n",
              "dtype: int64"
            ]
          },
          "metadata": {
            "tags": []
          },
          "execution_count": 16
        }
      ]
    },
    {
      "cell_type": "code",
      "metadata": {
        "id": "OD0tKgTYgRB4",
        "outputId": "3e39bfdc-2c54-4e78-a0cb-bd478842c54d",
        "colab": {
          "base_uri": "https://localhost:8080/",
          "height": 0
        }
      },
      "source": [
        "df1.sample(5).T"
      ],
      "execution_count": 17,
      "outputs": [
        {
          "output_type": "execute_result",
          "data": {
            "text/html": [
              "<div>\n",
              "<style scoped>\n",
              "    .dataframe tbody tr th:only-of-type {\n",
              "        vertical-align: middle;\n",
              "    }\n",
              "\n",
              "    .dataframe tbody tr th {\n",
              "        vertical-align: top;\n",
              "    }\n",
              "\n",
              "    .dataframe thead th {\n",
              "        text-align: right;\n",
              "    }\n",
              "</style>\n",
              "<table border=\"1\" class=\"dataframe\">\n",
              "  <thead>\n",
              "    <tr style=\"text-align: right;\">\n",
              "      <th></th>\n",
              "      <th>237629</th>\n",
              "      <th>3658</th>\n",
              "      <th>579013</th>\n",
              "      <th>275448</th>\n",
              "      <th>723952</th>\n",
              "    </tr>\n",
              "  </thead>\n",
              "  <tbody>\n",
              "    <tr>\n",
              "      <th>store</th>\n",
              "      <td>376</td>\n",
              "      <td>314</td>\n",
              "      <td>1114</td>\n",
              "      <td>877</td>\n",
              "      <td>1103</td>\n",
              "    </tr>\n",
              "    <tr>\n",
              "      <th>day_of_week</th>\n",
              "      <td>2</td>\n",
              "      <td>2</td>\n",
              "      <td>3</td>\n",
              "      <td>4</td>\n",
              "      <td>6</td>\n",
              "    </tr>\n",
              "    <tr>\n",
              "      <th>date</th>\n",
              "      <td>2014-12-30 00:00:00</td>\n",
              "      <td>2015-07-28 00:00:00</td>\n",
              "      <td>2014-01-29 00:00:00</td>\n",
              "      <td>2014-11-20 00:00:00</td>\n",
              "      <td>2013-09-21 00:00:00</td>\n",
              "    </tr>\n",
              "    <tr>\n",
              "      <th>sales</th>\n",
              "      <td>9736</td>\n",
              "      <td>6178</td>\n",
              "      <td>13948</td>\n",
              "      <td>4923</td>\n",
              "      <td>3510</td>\n",
              "    </tr>\n",
              "    <tr>\n",
              "      <th>customers</th>\n",
              "      <td>1057</td>\n",
              "      <td>579</td>\n",
              "      <td>2227</td>\n",
              "      <td>764</td>\n",
              "      <td>282</td>\n",
              "    </tr>\n",
              "    <tr>\n",
              "      <th>open</th>\n",
              "      <td>1</td>\n",
              "      <td>1</td>\n",
              "      <td>1</td>\n",
              "      <td>1</td>\n",
              "      <td>1</td>\n",
              "    </tr>\n",
              "    <tr>\n",
              "      <th>promo</th>\n",
              "      <td>0</td>\n",
              "      <td>1</td>\n",
              "      <td>0</td>\n",
              "      <td>0</td>\n",
              "      <td>0</td>\n",
              "    </tr>\n",
              "    <tr>\n",
              "      <th>state_holiday</th>\n",
              "      <td>0</td>\n",
              "      <td>0</td>\n",
              "      <td>0</td>\n",
              "      <td>0</td>\n",
              "      <td>0</td>\n",
              "    </tr>\n",
              "    <tr>\n",
              "      <th>school_holiday</th>\n",
              "      <td>1</td>\n",
              "      <td>1</td>\n",
              "      <td>0</td>\n",
              "      <td>0</td>\n",
              "      <td>0</td>\n",
              "    </tr>\n",
              "    <tr>\n",
              "      <th>store_type</th>\n",
              "      <td>a</td>\n",
              "      <td>a</td>\n",
              "      <td>a</td>\n",
              "      <td>a</td>\n",
              "      <td>d</td>\n",
              "    </tr>\n",
              "    <tr>\n",
              "      <th>assortment</th>\n",
              "      <td>a</td>\n",
              "      <td>a</td>\n",
              "      <td>c</td>\n",
              "      <td>c</td>\n",
              "      <td>c</td>\n",
              "    </tr>\n",
              "    <tr>\n",
              "      <th>competition_distance</th>\n",
              "      <td>160</td>\n",
              "      <td>3560</td>\n",
              "      <td>870</td>\n",
              "      <td>29190</td>\n",
              "      <td>1340</td>\n",
              "    </tr>\n",
              "    <tr>\n",
              "      <th>competition_open_since_month</th>\n",
              "      <td>8</td>\n",
              "      <td>10</td>\n",
              "      <td>1</td>\n",
              "      <td>11</td>\n",
              "      <td>10</td>\n",
              "    </tr>\n",
              "    <tr>\n",
              "      <th>competition_open_since_year</th>\n",
              "      <td>2012</td>\n",
              "      <td>2001</td>\n",
              "      <td>2014</td>\n",
              "      <td>2014</td>\n",
              "      <td>2006</td>\n",
              "    </tr>\n",
              "    <tr>\n",
              "      <th>promo2</th>\n",
              "      <td>0</td>\n",
              "      <td>1</td>\n",
              "      <td>0</td>\n",
              "      <td>0</td>\n",
              "      <td>1</td>\n",
              "    </tr>\n",
              "    <tr>\n",
              "      <th>promo2_since_week</th>\n",
              "      <td>1</td>\n",
              "      <td>31</td>\n",
              "      <td>5</td>\n",
              "      <td>47</td>\n",
              "      <td>5</td>\n",
              "    </tr>\n",
              "    <tr>\n",
              "      <th>promo2_since_year</th>\n",
              "      <td>2014</td>\n",
              "      <td>2013</td>\n",
              "      <td>2014</td>\n",
              "      <td>2014</td>\n",
              "      <td>2013</td>\n",
              "    </tr>\n",
              "    <tr>\n",
              "      <th>promo_interval</th>\n",
              "      <td>0</td>\n",
              "      <td>Feb,May,Aug,Nov</td>\n",
              "      <td>0</td>\n",
              "      <td>0</td>\n",
              "      <td>Feb,May,Aug,Nov</td>\n",
              "    </tr>\n",
              "    <tr>\n",
              "      <th>month_map</th>\n",
              "      <td>Dec</td>\n",
              "      <td>Jul</td>\n",
              "      <td>Jan</td>\n",
              "      <td>Nov</td>\n",
              "      <td>Sep</td>\n",
              "    </tr>\n",
              "    <tr>\n",
              "      <th>is_promo</th>\n",
              "      <td>0</td>\n",
              "      <td>0</td>\n",
              "      <td>0</td>\n",
              "      <td>0</td>\n",
              "      <td>0</td>\n",
              "    </tr>\n",
              "  </tbody>\n",
              "</table>\n",
              "</div>"
            ],
            "text/plain": [
              "                                           237629  ...               723952\n",
              "store                                         376  ...                 1103\n",
              "day_of_week                                     2  ...                    6\n",
              "date                          2014-12-30 00:00:00  ...  2013-09-21 00:00:00\n",
              "sales                                        9736  ...                 3510\n",
              "customers                                    1057  ...                  282\n",
              "open                                            1  ...                    1\n",
              "promo                                           0  ...                    0\n",
              "state_holiday                                   0  ...                    0\n",
              "school_holiday                                  1  ...                    0\n",
              "store_type                                      a  ...                    d\n",
              "assortment                                      a  ...                    c\n",
              "competition_distance                          160  ...                 1340\n",
              "competition_open_since_month                    8  ...                   10\n",
              "competition_open_since_year                  2012  ...                 2006\n",
              "promo2                                          0  ...                    1\n",
              "promo2_since_week                               1  ...                    5\n",
              "promo2_since_year                            2014  ...                 2013\n",
              "promo_interval                                  0  ...      Feb,May,Aug,Nov\n",
              "month_map                                     Dec  ...                  Sep\n",
              "is_promo                                        0  ...                    0\n",
              "\n",
              "[20 rows x 5 columns]"
            ]
          },
          "metadata": {
            "tags": []
          },
          "execution_count": 17
        }
      ]
    },
    {
      "cell_type": "markdown",
      "metadata": {
        "id": "AC8oMNYKeuPN"
      },
      "source": [
        "##1.6. Change Types\n"
      ]
    },
    {
      "cell_type": "code",
      "metadata": {
        "id": "xGigbQNFe0vG"
      },
      "source": [
        "df1['competition_open_since_month'] = df1['competition_open_since_month'].astype(int)\n",
        "df1['competition_open_since_year'] = df1['competition_open_since_year'].astype(int)\n",
        "\n",
        "\n",
        "df1['promo2_since_week'] = df1['promo2_since_week'].astype(int)\n",
        "df1['promo2_since_year'] = df1['promo2_since_year'].astype(int)\n"
      ],
      "execution_count": 18,
      "outputs": []
    },
    {
      "cell_type": "markdown",
      "metadata": {
        "id": "bvQSbPJgg4CE"
      },
      "source": [
        "##1.7. Descriptive Statistical\n"
      ]
    },
    {
      "cell_type": "code",
      "metadata": {
        "id": "Fw0UY1brkUyP"
      },
      "source": [
        "num_attributes = df1.select_dtypes(include=['int64', 'float64'])\n",
        "cat_attributes = df1.select_dtypes(exclude=['int64', 'float64', 'datetime64[ns]'])\n"
      ],
      "execution_count": 19,
      "outputs": []
    },
    {
      "cell_type": "markdown",
      "metadata": {
        "id": "U7xffYslnNRY"
      },
      "source": [
        "##1.7.1 Numerical Attributes"
      ]
    },
    {
      "cell_type": "code",
      "metadata": {
        "id": "WLG3GoPjkWFJ",
        "outputId": "b3905434-7a46-49b1-fd91-360eda26c9e0",
        "colab": {
          "base_uri": "https://localhost:8080/",
          "height": 0
        }
      },
      "source": [
        "#Central Tendency  -  mean, median\n",
        "ct1 = pd.DataFrame( num_attributes.apply( np.mean) ).T\n",
        "ct2 = pd.DataFrame(num_attributes.apply( np.median) ).T\n",
        "\n",
        "\n",
        "#Dispersion - std, min, max, range, skew, kurtosis\n",
        "d1 = pd.DataFrame(num_attributes.apply( np.std) ).T\n",
        "d2 = pd.DataFrame(num_attributes.apply( min ) ).T\n",
        "d3 = pd.DataFrame(num_attributes.apply( max ) ).T\n",
        "d4 = pd.DataFrame(num_attributes.apply( lambda x: x.max() - x.min() ) ).T\n",
        "d5 = pd.DataFrame(num_attributes.apply( lambda x: x.skew() ) ).T\n",
        "d6 = pd.DataFrame(num_attributes.apply( lambda x: x.kurtosis() ) ).T\n",
        "\n",
        "#concatenate\n",
        "m = pd.concat([d2, d3, d4, ct1, ct2, d1, d5, d6]).T.reset_index()\n",
        "m.columns = ['attributes', 'min', 'max', 'range', 'mean', 'median', 'std', 'skew', 'kurtosis']\n",
        "m"
      ],
      "execution_count": 20,
      "outputs": [
        {
          "output_type": "execute_result",
          "data": {
            "text/html": [
              "<div>\n",
              "<style scoped>\n",
              "    .dataframe tbody tr th:only-of-type {\n",
              "        vertical-align: middle;\n",
              "    }\n",
              "\n",
              "    .dataframe tbody tr th {\n",
              "        vertical-align: top;\n",
              "    }\n",
              "\n",
              "    .dataframe thead th {\n",
              "        text-align: right;\n",
              "    }\n",
              "</style>\n",
              "<table border=\"1\" class=\"dataframe\">\n",
              "  <thead>\n",
              "    <tr style=\"text-align: right;\">\n",
              "      <th></th>\n",
              "      <th>attributes</th>\n",
              "      <th>min</th>\n",
              "      <th>max</th>\n",
              "      <th>range</th>\n",
              "      <th>mean</th>\n",
              "      <th>median</th>\n",
              "      <th>std</th>\n",
              "      <th>skew</th>\n",
              "      <th>kurtosis</th>\n",
              "    </tr>\n",
              "  </thead>\n",
              "  <tbody>\n",
              "    <tr>\n",
              "      <th>0</th>\n",
              "      <td>store</td>\n",
              "      <td>1.0</td>\n",
              "      <td>1115.0</td>\n",
              "      <td>1114.0</td>\n",
              "      <td>558.429727</td>\n",
              "      <td>558.0</td>\n",
              "      <td>321.908493</td>\n",
              "      <td>-0.000955</td>\n",
              "      <td>-1.200524</td>\n",
              "    </tr>\n",
              "    <tr>\n",
              "      <th>1</th>\n",
              "      <td>day_of_week</td>\n",
              "      <td>1.0</td>\n",
              "      <td>7.0</td>\n",
              "      <td>6.0</td>\n",
              "      <td>3.998341</td>\n",
              "      <td>4.0</td>\n",
              "      <td>1.997390</td>\n",
              "      <td>0.001593</td>\n",
              "      <td>-1.246873</td>\n",
              "    </tr>\n",
              "    <tr>\n",
              "      <th>2</th>\n",
              "      <td>sales</td>\n",
              "      <td>0.0</td>\n",
              "      <td>41551.0</td>\n",
              "      <td>41551.0</td>\n",
              "      <td>5773.818972</td>\n",
              "      <td>5744.0</td>\n",
              "      <td>3849.924283</td>\n",
              "      <td>0.641460</td>\n",
              "      <td>1.778375</td>\n",
              "    </tr>\n",
              "    <tr>\n",
              "      <th>3</th>\n",
              "      <td>customers</td>\n",
              "      <td>0.0</td>\n",
              "      <td>7388.0</td>\n",
              "      <td>7388.0</td>\n",
              "      <td>633.145946</td>\n",
              "      <td>609.0</td>\n",
              "      <td>464.411506</td>\n",
              "      <td>1.598650</td>\n",
              "      <td>7.091773</td>\n",
              "    </tr>\n",
              "    <tr>\n",
              "      <th>4</th>\n",
              "      <td>open</td>\n",
              "      <td>0.0</td>\n",
              "      <td>1.0</td>\n",
              "      <td>1.0</td>\n",
              "      <td>0.830107</td>\n",
              "      <td>1.0</td>\n",
              "      <td>0.375539</td>\n",
              "      <td>-1.758045</td>\n",
              "      <td>1.090723</td>\n",
              "    </tr>\n",
              "    <tr>\n",
              "      <th>5</th>\n",
              "      <td>promo</td>\n",
              "      <td>0.0</td>\n",
              "      <td>1.0</td>\n",
              "      <td>1.0</td>\n",
              "      <td>0.381515</td>\n",
              "      <td>0.0</td>\n",
              "      <td>0.485758</td>\n",
              "      <td>0.487838</td>\n",
              "      <td>-1.762018</td>\n",
              "    </tr>\n",
              "    <tr>\n",
              "      <th>6</th>\n",
              "      <td>school_holiday</td>\n",
              "      <td>0.0</td>\n",
              "      <td>1.0</td>\n",
              "      <td>1.0</td>\n",
              "      <td>0.178647</td>\n",
              "      <td>0.0</td>\n",
              "      <td>0.383056</td>\n",
              "      <td>1.677842</td>\n",
              "      <td>0.815154</td>\n",
              "    </tr>\n",
              "    <tr>\n",
              "      <th>7</th>\n",
              "      <td>competition_distance</td>\n",
              "      <td>20.0</td>\n",
              "      <td>200000.0</td>\n",
              "      <td>199980.0</td>\n",
              "      <td>5935.442677</td>\n",
              "      <td>2330.0</td>\n",
              "      <td>12547.646829</td>\n",
              "      <td>10.242344</td>\n",
              "      <td>147.789712</td>\n",
              "    </tr>\n",
              "    <tr>\n",
              "      <th>8</th>\n",
              "      <td>competition_open_since_month</td>\n",
              "      <td>1.0</td>\n",
              "      <td>12.0</td>\n",
              "      <td>11.0</td>\n",
              "      <td>6.786849</td>\n",
              "      <td>7.0</td>\n",
              "      <td>3.311085</td>\n",
              "      <td>-0.042076</td>\n",
              "      <td>-1.232607</td>\n",
              "    </tr>\n",
              "    <tr>\n",
              "      <th>9</th>\n",
              "      <td>competition_open_since_year</td>\n",
              "      <td>1900.0</td>\n",
              "      <td>2015.0</td>\n",
              "      <td>115.0</td>\n",
              "      <td>2010.324840</td>\n",
              "      <td>2012.0</td>\n",
              "      <td>5.515591</td>\n",
              "      <td>-7.235657</td>\n",
              "      <td>124.071304</td>\n",
              "    </tr>\n",
              "    <tr>\n",
              "      <th>10</th>\n",
              "      <td>promo2</td>\n",
              "      <td>0.0</td>\n",
              "      <td>1.0</td>\n",
              "      <td>1.0</td>\n",
              "      <td>0.500564</td>\n",
              "      <td>1.0</td>\n",
              "      <td>0.500000</td>\n",
              "      <td>-0.002255</td>\n",
              "      <td>-1.999999</td>\n",
              "    </tr>\n",
              "    <tr>\n",
              "      <th>11</th>\n",
              "      <td>promo2_since_week</td>\n",
              "      <td>1.0</td>\n",
              "      <td>52.0</td>\n",
              "      <td>51.0</td>\n",
              "      <td>23.619033</td>\n",
              "      <td>22.0</td>\n",
              "      <td>14.310057</td>\n",
              "      <td>0.178723</td>\n",
              "      <td>-1.184046</td>\n",
              "    </tr>\n",
              "    <tr>\n",
              "      <th>12</th>\n",
              "      <td>promo2_since_year</td>\n",
              "      <td>2009.0</td>\n",
              "      <td>2015.0</td>\n",
              "      <td>6.0</td>\n",
              "      <td>2012.793297</td>\n",
              "      <td>2013.0</td>\n",
              "      <td>1.662657</td>\n",
              "      <td>-0.784436</td>\n",
              "      <td>-0.210075</td>\n",
              "    </tr>\n",
              "    <tr>\n",
              "      <th>13</th>\n",
              "      <td>is_promo</td>\n",
              "      <td>0.0</td>\n",
              "      <td>1.0</td>\n",
              "      <td>1.0</td>\n",
              "      <td>0.155231</td>\n",
              "      <td>0.0</td>\n",
              "      <td>0.362124</td>\n",
              "      <td>1.904152</td>\n",
              "      <td>1.625796</td>\n",
              "    </tr>\n",
              "  </tbody>\n",
              "</table>\n",
              "</div>"
            ],
            "text/plain": [
              "                      attributes     min  ...       skew    kurtosis\n",
              "0                          store     1.0  ...  -0.000955   -1.200524\n",
              "1                    day_of_week     1.0  ...   0.001593   -1.246873\n",
              "2                          sales     0.0  ...   0.641460    1.778375\n",
              "3                      customers     0.0  ...   1.598650    7.091773\n",
              "4                           open     0.0  ...  -1.758045    1.090723\n",
              "5                          promo     0.0  ...   0.487838   -1.762018\n",
              "6                 school_holiday     0.0  ...   1.677842    0.815154\n",
              "7           competition_distance    20.0  ...  10.242344  147.789712\n",
              "8   competition_open_since_month     1.0  ...  -0.042076   -1.232607\n",
              "9    competition_open_since_year  1900.0  ...  -7.235657  124.071304\n",
              "10                        promo2     0.0  ...  -0.002255   -1.999999\n",
              "11             promo2_since_week     1.0  ...   0.178723   -1.184046\n",
              "12             promo2_since_year  2009.0  ...  -0.784436   -0.210075\n",
              "13                      is_promo     0.0  ...   1.904152    1.625796\n",
              "\n",
              "[14 rows x 9 columns]"
            ]
          },
          "metadata": {
            "tags": []
          },
          "execution_count": 20
        }
      ]
    },
    {
      "cell_type": "code",
      "metadata": {
        "id": "tAkzY4iSe0pW",
        "outputId": "487d58f5-0ba3-4e8b-8e42-5fdfc5a86625",
        "colab": {
          "base_uri": "https://localhost:8080/",
          "height": 0
        }
      },
      "source": [
        "sns.distplot( df1['competition_distance'] ) "
      ],
      "execution_count": 21,
      "outputs": [
        {
          "output_type": "stream",
          "text": [
            "/usr/local/lib/python3.6/dist-packages/seaborn/distributions.py:2551: FutureWarning: `distplot` is a deprecated function and will be removed in a future version. Please adapt your code to use either `displot` (a figure-level function with similar flexibility) or `histplot` (an axes-level function for histograms).\n",
            "  warnings.warn(msg, FutureWarning)\n"
          ],
          "name": "stderr"
        },
        {
          "output_type": "execute_result",
          "data": {
            "text/plain": [
              "<matplotlib.axes._subplots.AxesSubplot at 0x7fc7cf7a4a90>"
            ]
          },
          "metadata": {
            "tags": []
          },
          "execution_count": 21
        },
        {
          "output_type": "display_data",
          "data": {
            "image/png": "[encoded data removed]",
            "text/plain": [
              "<Figure size 432x288 with 1 Axes>"
            ]
          },
          "metadata": {
            "tags": [],
            "needs_background": "light"
          }
        }
      ]
    },
    {
      "cell_type": "markdown",
      "metadata": {
        "id": "XoBqjwBziPyv"
      },
      "source": [
        "##1.7.2 Categorical Attributes\n"
      ]
    },
    {
      "cell_type": "code",
      "metadata": {
        "id": "MXr_W9Yiio5x",
        "outputId": "edf04916-8fd1-417e-cb4b-e53dbbdd81f9",
        "colab": {
          "base_uri": "https://localhost:8080/",
          "height": 0
        }
      },
      "source": [
        "cat_attributes.apply(lambda x: x.unique().shape[0] )"
      ],
      "execution_count": 22,
      "outputs": [
        {
          "output_type": "execute_result",
          "data": {
            "text/plain": [
              "state_holiday      5\n",
              "store_type         4\n",
              "assortment         3\n",
              "promo_interval     4\n",
              "month_map         12\n",
              "dtype: int64"
            ]
          },
          "metadata": {
            "tags": []
          },
          "execution_count": 22
        }
      ]
    },
    {
      "cell_type": "code",
      "metadata": {
        "id": "A6vlaA73iqIu",
        "outputId": "cc9a0df9-7dfd-4108-d051-951ca55e0d20",
        "colab": {
          "base_uri": "https://localhost:8080/",
          "height": 0
        }
      },
      "source": [
        "aux1 = df1[(df1['state_holiday'] !='0') & (df1['sales'] >0)]\n",
        "\n",
        "plt.subplot(1,3,1)\n",
        "sns.boxplot(x='state_holiday', y='sales', data=aux1 )\n",
        "\n",
        "plt.subplot(1,3,2)\n",
        "sns.boxplot(x='store_type', y='sales', data=aux1 )\n",
        "\n",
        "plt.subplot(1,3,3)\n",
        "sns.boxplot(x='assortment', y='sales', data=aux1 )\n",
        "\n"
      ],
      "execution_count": 23,
      "outputs": [
        {
          "output_type": "execute_result",
          "data": {
            "text/plain": [
              "<matplotlib.axes._subplots.AxesSubplot at 0x7fc7cb7d0dd8>"
            ]
          },
          "metadata": {
            "tags": []
          },
          "execution_count": 23
        },
        {
          "output_type": "display_data",
          "data": {
            "image/png": "[encoded data removed]",
            "text/plain": [
              "<Figure size 432x288 with 3 Axes>"
            ]
          },
          "metadata": {
            "tags": [],
            "needs_background": "light"
          }
        }
      ]
    },
    {
      "cell_type": "markdown",
      "metadata": {
        "id": "P73NCvDSunTO"
      },
      "source": [
        "#2.0. Passo 2 - FEATURE ENGINEERING \n",
        "\n",
        "---\n",
        "\n"
      ]
    },
    {
      "cell_type": "markdown",
      "metadata": {
        "id": "2BMOr3PGdEyJ"
      },
      "source": [
        "## 2.1. Mapa Mental de Hipoteses\n",
        "  "
      ]
    },
    {
      "cell_type": "code",
      "metadata": {
        "id": "3rGyNjWWdRPW"
      },
      "source": [
        ""
      ],
      "execution_count": null,
      "outputs": []
    },
    {
      "cell_type": "code",
      "metadata": {
        "id": "nVYaFpS6w-J4"
      },
      "source": [
        "uploaded = files.upload()"
      ],
      "execution_count": null,
      "outputs": []
    },
    {
      "cell_type": "code",
      "metadata": {
        "id": "LNdvWRvhxrs3"
      },
      "source": [
        "Image('MindMapHypothesis.png', width = 100)"
      ],
      "execution_count": null,
      "outputs": []
    },
    {
      "cell_type": "markdown",
      "metadata": {
        "id": "tSmcFlgoa3Bk"
      },
      "source": [
        "![MindMapHypothesis.png](data:image/png;base64,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)"
      ]
    },
    {
      "cell_type": "markdown",
      "metadata": {
        "id": "V53NyAq1dal2"
      },
      "source": [
        "## 2.1. Criacao das Hipoteses\n",
        "\n"
      ]
    },
    {
      "cell_type": "markdown",
      "metadata": {
        "id": "HMw0oKr-dt1m"
      },
      "source": [
        "###2.1.1. Hipoteses Loja"
      ]
    },
    {
      "cell_type": "markdown",
      "metadata": {
        "id": "5yhO98gVgEi0"
      },
      "source": [
        "**1.** Lojas com maior quadro de funcionarios deveriam vender mais.\n",
        "\n",
        "**2.** Lojas com maior capacidade de estoque deveriam vender mais.\n",
        "\n",
        "**3.** Lojas com maior porte deveriam vender mais.\n",
        "\n",
        "**4.** Lojas com maior sortimentos deveriam vender mais.\n",
        "\n",
        "**5.** Lojas com competidores mais proximos deveriam vender menos.\n",
        "\n",
        "**6.** Lojas com competidores a mais tempo deveriam vender mais.\n",
        "\n"
      ]
    },
    {
      "cell_type": "markdown",
      "metadata": {
        "id": "kPAh_L40d34i"
      },
      "source": [
        "###2.1.2. Hipoteses Produto"
      ]
    },
    {
      "cell_type": "markdown",
      "metadata": {
        "id": "Ds6m0G1ko8N0"
      },
      "source": [
        "**1**. Lojas que investem mais em Marketing deveriam vender mais.\n",
        "\n",
        "**2**. Lojas com maior exposicao de produto deveriam vender mais.\n",
        "\n",
        "**3**. Lojas com produtos com preco menor deveriam vender mais.\n",
        "\n",
        "**4**. Lojas com promocoes mais agressivas (descontos maiores), deveriam vender mais.\n",
        "\n",
        "**5**. Lojas com promocao ativas por mais tempo  deveriam vender mais.\n",
        "\n",
        "**6**. Lojas com mais dias de promocao deveriam vender mais.\n",
        "\n",
        "**7**. Lojas com mais promocoes consecutivas deveriam vender mais.\n"
      ]
    },
    {
      "cell_type": "markdown",
      "metadata": {
        "id": "ruXog-bgeCwu"
      },
      "source": [
        "###2.1.3. Hipoteses Tempo"
      ]
    },
    {
      "cell_type": "code",
      "metadata": {
        "id": "5zSaKwPndkZL"
      },
      "source": [
        "**1.** Lojas abertas durante o feriado de natal deveriam vender mais.\n",
        "\n",
        "**2.** Lojas deveriam vender mais ao longo do ano.\n",
        "\n",
        "**3.** Lojas deveriam vender mais no segundo semestre do ano.\n",
        "\n",
        "**4.** Lojas deveriam  mais depois do dia 10 de cada mes.\n",
        "\n",
        "**5.** Lojas deveriam vender menos aos finais de semana.\n",
        "\n",
        "**6.** Lojas deveruan vender menos durante os feriados escolares.\n"
      ],
      "execution_count": null,
      "outputs": []
    },
    {
      "cell_type": "markdown",
      "metadata": {
        "id": "DNojNs5tqjnt"
      },
      "source": [
        "## 2.2. Lista final de Hipoteses\n"
      ]
    },
    {
      "cell_type": "markdown",
      "metadata": {
        "id": "D3tloMgjqs3S"
      },
      "source": [
        "**1.** Lojas com maior sortimentos deveriam vender mais.\n",
        "\n",
        "**2.** Lojas com competidores mais proximos deveriam vender menos.\n",
        "\n",
        "**3.** Lojas com competidores a mais tempo deveriam vender mais.\n",
        "\n"
      ]
    },
    {
      "cell_type": "markdown",
      "metadata": {
        "id": "V0zNvfFVsQAa"
      },
      "source": [
        "**4.** Lojas com promocao ativas por mais tempo deveriam vender mais.\n",
        "\n",
        "**5.** Lojas com mais dias de promocao deveriam vender mais.\n",
        "\n",
        "**6.** Lojas com mais promocoes consecutivas deveriam vender mais.\n"
      ]
    },
    {
      "cell_type": "markdown",
      "metadata": {
        "id": "vDwDOp2dsT1N"
      },
      "source": [
        ""
      ]
    },
    {
      "cell_type": "markdown",
      "metadata": {
        "id": "hYPf_JursXw9"
      },
      "source": [
        "**7.** Lojas abertas durante o feriado de natal deveriam vender mais.\n",
        "\n",
        "**8.** Lojas deveriam vender mais ao longo do ano.\n",
        "\n",
        "**9.** Lojas deveriam vender mais no segundo semestre do ano.\n",
        "\n",
        "**10.** Lojas deveriam  mais depois do dia 10 de cada mes.\n",
        "\n",
        "**11.** Lojas deveriam vender menos aos finais de semana.\n",
        "\n",
        "**12.** Lojas deveruan vender menos durante os feriados escolares.\n"
      ]
    }
  ]
}